{
 "cells": [
  {
   "cell_type": "code",
   "execution_count": 1,
   "metadata": {},
   "outputs": [],
   "source": [
    "import gymnasium as gym\n",
    "import numpy as np\n",
    "import random"
   ]
  },
  {
   "cell_type": "code",
   "execution_count": 2,
   "metadata": {},
   "outputs": [],
   "source": [
    "#setting up in the custom maze enviorment\n",
    "desc=[\"SFFF\", \"FHHH\", \"FFFF\", \"HFHF\", \"FFGF\"]\n",
    "\n",
    "env = gym.make('FrozenLake-v1', desc=desc, map_name=\"5x4\", is_slippery=False, render_mode=\"human\") \n",
    "observation, info = env.reset()"
   ]
  },
  {
   "cell_type": "code",
   "execution_count": 3,
   "metadata": {},
   "outputs": [],
   "source": [
    "# Define parameters\n",
    "gamma = 0.9  # Discount factor\n",
    "alpha = 0.5  # Learning rate\n",
    "epsilon = 0.025  # Epsilon-greedy parameter\n",
    "num_episodes = 1000\n",
    "\n",
    "#this will show how many times the elf coompleted the maze and how many times it hit the wall and lake\n",
    "completion_num = 0\n",
    "into_wall = 0\n",
    "into_lake = 0"
   ]
  },
  {
   "cell_type": "code",
   "execution_count": 4,
   "metadata": {},
   "outputs": [
    {
     "ename": "NameError",
     "evalue": "name 'random' is not defined",
     "output_type": "error",
     "traceback": [
      "\u001b[0;31m---------------------------------------------------------------------------\u001b[0m",
      "\u001b[0;31mNameError\u001b[0m                                 Traceback (most recent call last)",
      "Cell \u001b[0;32mIn[4], line 26\u001b[0m\n\u001b[1;32m     24\u001b[0m maxInd \u001b[38;5;241m=\u001b[39m \u001b[38;5;241m-\u001b[39m\u001b[38;5;241m1\u001b[39m\n\u001b[1;32m     25\u001b[0m \u001b[38;5;28;01mif\u001b[39;00m \u001b[38;5;28mlen\u001b[39m(maxIndices) \u001b[38;5;241m>\u001b[39m\u001b[38;5;241m=\u001b[39m \u001b[38;5;241m1\u001b[39m:\n\u001b[0;32m---> 26\u001b[0m     maxInd \u001b[38;5;241m=\u001b[39m maxIndices[random\u001b[38;5;241m.\u001b[39mrandint(\u001b[38;5;241m0\u001b[39m, \u001b[38;5;28mlen\u001b[39m(maxIndices) \u001b[38;5;241m-\u001b[39m \u001b[38;5;241m1\u001b[39m)]\n\u001b[1;32m     28\u001b[0m \u001b[38;5;28;01mif\u001b[39;00m maxInd \u001b[38;5;241m==\u001b[39m \u001b[38;5;241m-\u001b[39m\u001b[38;5;241m1\u001b[39m:\n\u001b[1;32m     29\u001b[0m     maxInd \u001b[38;5;241m=\u001b[39m env\u001b[38;5;241m.\u001b[39maction_space\u001b[38;5;241m.\u001b[39msample()\n",
      "\u001b[0;31mNameError\u001b[0m: name 'random' is not defined"
     ]
    }
   ],
   "source": [
    "# Initialize Q-values\n",
    "num_states = env.observation_space.n\n",
    "num_actions = env.action_space.n\n",
    "Q = np.zeros((num_states, num_actions))\n",
    "# Q-learning algorithm\n",
    "for episode in range(num_episodes):\n",
    "    state = env.reset()[0]\n",
    "    done = False\n",
    "    \n",
    "    steps = []\n",
    "    \n",
    "    while not done:\n",
    "        # Epsilon-greedy action selection\n",
    "        if np.random.rand() < epsilon:\n",
    "            action = env.action_space.sample()  # Random action\n",
    "        else:\n",
    "            ind = 0\n",
    "            maxIndices = []\n",
    "            maxNum = -1\n",
    "            for num in Q[state]:\n",
    "                if num > maxNum:\n",
    "                    maxIndices = [ind]\n",
    "                    maxNum = num\n",
    "                elif num == maxNum:\n",
    "                    maxIndices.append(ind)\n",
    "                ind += 1\n",
    "                \n",
    "            maxInd = -1\n",
    "            if len(maxIndices) >= 1:\n",
    "                maxInd = maxIndices[random.randint(0, len(maxIndices) - 1)]\n",
    "                \n",
    "            if maxInd == -1:\n",
    "                maxInd = env.action_space.sample()\n",
    "            action = maxInd  # Greedy action\n",
    "        \n",
    "        # Take action and observe next state and reward\n",
    "        steps.append(action)\n",
    "        step = env.step(action)\n",
    "        next_state = step[0]\n",
    "        reward = step[1]\n",
    "        done = step[2]\n",
    "        \n",
    "        if reward == 0 and done:\n",
    "            print(\"hit lake :C\")\n",
    "            reward = -1\n",
    "            into_wall += 1\n",
    "        elif next_state == state:\n",
    "            print(\"ran into wall\")\n",
    "            reward = -1\n",
    "            into_lake += 1\n",
    "        \n",
    "        # Update Q-value\n",
    "        Q[state, action] += alpha * (reward + gamma * np.max(Q[next_state, :]) - Q[state, action])\n",
    "        \n",
    "        if reward == 1:\n",
    "            print(\"Hit gift! At Episode: \"+str(episode +1))\n",
    "            print(Q)\n",
    "            print(\"Steps: \")\n",
    "            print(steps)\n",
    "            completion_num += 1\n",
    "        \n",
    "        # Move to next state\n",
    "        state = next_state\n",
    "\n",
    "# Optimal policy\n",
    "optimal_policy = np.argmax(Q, axis=1)\n",
    "\n",
    "print(\"Optimal policy:\")\n",
    "print(optimal_policy)\n",
    "\n",
    "#prints out how many time it hit the lake, wall, or has completed\n",
    "print(\"# of times elf completed maze: \" + completion_num)\n",
    "print(\"# of times elf hit the wall: \" + into_wall)\n",
    "print(\"# of times elf went into the lake: \" + into_lake)\n",
    "\n"
   ]
  },
  {
   "cell_type": "code",
   "execution_count": null,
   "metadata": {},
   "outputs": [],
   "source": [
    "# env.close()"
   ]
  }
 ],
 "metadata": {
  "kernelspec": {
   "display_name": "base",
   "language": "python",
   "name": "python3"
  },
  "language_info": {
   "codemirror_mode": {
    "name": "ipython",
    "version": 3
   },
   "file_extension": ".py",
   "mimetype": "text/x-python",
   "name": "python",
   "nbconvert_exporter": "python",
   "pygments_lexer": "ipython3",
   "version": "3.11.5"
  }
 },
 "nbformat": 4,
 "nbformat_minor": 2
}
