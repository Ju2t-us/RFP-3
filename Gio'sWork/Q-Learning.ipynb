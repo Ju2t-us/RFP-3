{
 "cells": [
  {
   "cell_type": "code",
   "execution_count": 1,
   "id": "25edaa4b",
   "metadata": {},
   "outputs": [],
   "source": [
    "import gymnasium as gym\n",
    "import numpy as np"
   ]
  },
  {
   "cell_type": "code",
   "execution_count": 2,
   "id": "1e20679f",
   "metadata": {},
   "outputs": [],
   "source": [
    "desc=[\"SFFF\", \"FHHH\", \"FFFF\", \"HFHF\", \"FFGF\"]\n",
    "\n",
    "env = gym.make('FrozenLake-v1', desc=desc, map_name=\"5x5\", is_slippery=False, render_mode=\"human\") \n",
    "observation, info = env.reset()"
   ]
  },
  {
   "cell_type": "code",
   "execution_count": null,
   "id": "6af3f1cf",
   "metadata": {},
   "outputs": [
    {
     "name": "stdout",
     "output_type": "stream",
     "text": [
      "hit lake :C\n",
      "hit lake :C\n",
      "hit lake :C\n",
      "hit lake :C\n",
      "hit lake :C\n",
      "hit lake :C\n",
      "hit lake :C\n",
      "hit lake :C\n",
      "hit lake :C\n",
      "hit lake :C\n",
      "hit lake :C\n"
     ]
    }
   ],
   "source": [
    "# Define parameters\n",
    "gamma = 0.9  # Discount factor\n",
    "alpha = 0.1  # Learning rate\n",
    "epsilon = 0.05  # Epsilon-greedy parameter\n",
    "num_episodes = 1000\n",
    "\n",
    "# Initialize Q-values\n",
    "num_states = env.observation_space.n\n",
    "num_actions = env.action_space.n\n",
    "Q = np.zeros((num_states, num_actions))\n",
    "\n",
    "# Q-learning algorithm\n",
    "for episode in range(num_episodes):\n",
    "    state = env.reset()[0]\n",
    "    done = False\n",
    "    \n",
    "    while not done:\n",
    "        # Epsilon-greedy action selection\n",
    "        if np.random.rand() < epsilon:\n",
    "            action = env.action_space.sample()  # Random action\n",
    "        else:\n",
    "            ind = 0\n",
    "            maxInd = -1\n",
    "            maxNum = -1\n",
    "            allZeros = 0\n",
    "            for num in Q[state]:\n",
    "                if num > maxNum:\n",
    "                    maxNum = num\n",
    "                    maxInd = ind\n",
    "                if num == 0:\n",
    "                    allZeros+=1\n",
    "                ind += 1\n",
    "                \n",
    "            if allZeros == 4 or maxInd== -1:\n",
    "                maxInd = env.action_space.sample()\n",
    "            action = maxInd  # Greedy action\n",
    "        \n",
    "        # Take action and observe next state and reward\n",
    "        step = env.step(action)\n",
    "        next_state = step[0]\n",
    "        reward = step[1]\n",
    "        done = step[2]\n",
    "        \n",
    "        if reward == 0 and done:\n",
    "            print(\"hit lake :C\")\n",
    "            reward = -1\n",
    "        \n",
    "        # Update Q-value\n",
    "        Q[state, action] += alpha * (reward + gamma * np.max(Q[next_state, :]) - Q[state, action])\n",
    "        \n",
    "        if reward == 1:\n",
    "            print(\"Hit gift!\")\n",
    "            print(Q)\n",
    "        \n",
    "        # Move to next state\n",
    "        state = next_state\n",
    "\n",
    "# Optimal policy\n",
    "optimal_policy = np.argmax(Q, axis=1)\n",
    "\n",
    "print(\"Optimal policy:\")\n",
    "print(optimal_policy)\n"
   ]
  },
  {
   "cell_type": "code",
   "execution_count": null,
   "id": "265081ad",
   "metadata": {},
   "outputs": [],
   "source": []
  }
 ],
 "metadata": {
  "kernelspec": {
   "display_name": "Python 3 (ipykernel)",
   "language": "python",
   "name": "python3"
  },
  "language_info": {
   "codemirror_mode": {
    "name": "ipython",
    "version": 3
   },
   "file_extension": ".py",
   "mimetype": "text/x-python",
   "name": "python",
   "nbconvert_exporter": "python",
   "pygments_lexer": "ipython3",
   "version": "3.9.13"
  }
 },
 "nbformat": 4,
 "nbformat_minor": 5
}
