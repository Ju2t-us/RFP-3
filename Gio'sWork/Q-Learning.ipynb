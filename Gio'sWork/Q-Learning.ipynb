{
 "cells": [
  {
   "cell_type": "code",
   "execution_count": 1,
   "id": "25edaa4b",
   "metadata": {},
   "outputs": [],
   "source": [
    "import gymnasium as gym\n",
    "import numpy as np\n",
    "import random\n",
    "import time\n",
    "import pandas as pd\n",
    "import seaborn as sns\n",
    "import matplotlib.pyplot as plt"
   ]
  },
  {
   "cell_type": "code",
   "execution_count": 2,
   "id": "1e20679f",
   "metadata": {},
   "outputs": [],
   "source": [
    "desc=[\"SFFF\", \"FHHH\", \"FFFF\", \"HFHF\", \"FFGF\"]\n",
    "\n",
    "env = gym.make('FrozenLake-v1', desc=desc, map_name=\"5x5\", is_slippery=False) \n",
    "observation, info = env.reset()"
   ]
  },
  {
   "cell_type": "code",
   "execution_count": 3,
   "id": "4b48e893",
   "metadata": {},
   "outputs": [],
   "source": [
    "def calculate_percentage_change(old_q_table, new_q_table):\n",
    "    \"\"\"\n",
    "    Calculate the percentage change in Q-values between two Q-tables.\n",
    "\n",
    "    Parameters:\n",
    "        old_q_table (numpy.ndarray): The old Q-table.\n",
    "        new_q_table (numpy.ndarray): The new Q-table.\n",
    "\n",
    "    Returns:\n",
    "        float: The percentage change in Q-values.\n",
    "    \"\"\"\n",
    "    q_diff = np.abs(new_q_table - old_q_table)\n",
    "    avg_change = np.mean(q_diff)\n",
    "    old_avg = np.mean(old_q_table)\n",
    "    if old_avg == 0:\n",
    "        return 100\n",
    "    else:\n",
    "        return (avg_change / old_avg) * 100\n",
    "    \n",
    "    "
   ]
  },
  {
   "cell_type": "code",
   "execution_count": 7,
   "id": "6af3f1cf",
   "metadata": {},
   "outputs": [
    {
     "ename": "IndentationError",
     "evalue": "expected an indented block (2900874315.py, line 1)",
     "output_type": "error",
     "traceback": [
      "\u001b[1;36m  File \u001b[1;32m\"C:\\Users\\greyes11\\AppData\\Local\\Temp\\ipykernel_21800\\2900874315.py\"\u001b[1;36m, line \u001b[1;32m1\u001b[0m\n\u001b[1;33m    def runTrial():\u001b[0m\n\u001b[1;37m                   ^\u001b[0m\n\u001b[1;31mIndentationError\u001b[0m\u001b[1;31m:\u001b[0m expected an indented block\n"
     ]
    }
   ],
   "source": [
    "def runTrial():\n",
    "    # Define parameters\n",
    "    gamma = 0.9  # Discount factor\n",
    "    alpha = 0.1  # Learning rate\n",
    "    epsilon = 0.01  # Epsilon-greedy parameter\n",
    "    num_episodes = 100\n",
    "\n",
    "    # Initialize Q-values\n",
    "    num_states = env.observation_space.n\n",
    "    num_actions = env.action_space.n\n",
    "    Q = np.zeros((num_states, num_actions))\n",
    "\n",
    "    statistics = pd.DataFrame({\n",
    "        \"Time\": [],\n",
    "        \"Episode\": [],\n",
    "        \"Q-Difference\": [],\n",
    "        \"GotGift\": []\n",
    "    })\n",
    "\n",
    "    # Q-learning algorithm\n",
    "    start_time = time.time()\n",
    "    episode = 0\n",
    "\n",
    "    loop = True\n",
    "\n",
    "    while loop:\n",
    "        state = env.reset()[0]\n",
    "        done = False\n",
    "\n",
    "        gotGift = False\n",
    "\n",
    "        steps = []\n",
    "\n",
    "        arr_copy = Q.copy()\n",
    "\n",
    "        while not done:\n",
    "            # Epsilon-greedy action selection\n",
    "            if np.random.rand() < epsilon:\n",
    "                action = env.action_space.sample()  # Random action\n",
    "            else:\n",
    "                action = np.argmax(Q[state])  # Greedy action\n",
    "\n",
    "            # Take action and observe next state and reward\n",
    "            steps.append(action)\n",
    "            step = env.step(action)\n",
    "            next_state = step[0]\n",
    "            reward = step[1]\n",
    "            done = step[2]\n",
    "\n",
    "            if reward == 0 and done:\n",
    "                reward = -1\n",
    "            elif next_state == state:\n",
    "                reward = -1\n",
    "\n",
    "\n",
    "\n",
    "            # Update Q-value\n",
    "            Q[state, action] += alpha * (reward + gamma * np.max(Q[next_state, :]) - Q[state, action])\n",
    "\n",
    "            if reward == 1:\n",
    "    #             print(\"Hit gift! At Episode: \"+str(episode +1))\n",
    "    #             print(Q)\n",
    "    #             print(\"Steps: \")\n",
    "    #             print(steps)\n",
    "                gotGift = True\n",
    "                end_time = time.time()\n",
    "                elapsed_time = end_time - start_time\n",
    "    #             print(\"Elapsed time:\", elapsed_time, \"seconds\")\n",
    "\n",
    "\n",
    "            # Move to next state\n",
    "            state = next_state\n",
    "\n",
    "        change = calculate_percentage_change(arr_copy, Q)\n",
    "        end_time = time.time()\n",
    "        elapsed_time = end_time - start_time\n",
    "\n",
    "        statistics.loc[episode] = {\n",
    "            \"Time\": elapsed_time,\n",
    "            \"Episode\": episode+1,\n",
    "            \"Q-Difference\": -change,\n",
    "            \"GotGift\": gotGift\n",
    "        }\n",
    "\n",
    "        if -change <= 0.1 and gotGift:\n",
    "            loop=False\n",
    "    #         print(\"Final time: \"+str(elapsed_time))\n",
    "    #         print(change)\n",
    "        episode += 1\n",
    "\n",
    "\n",
    "    # Optimal policy\n",
    "    optimal_policy = np.argmax(Q, axis=1)\n",
    "\n",
    "    # print(\"Optimal policy:\")\n",
    "    # print(optimal_policy)\n"
   ]
  },
  {
   "cell_type": "code",
   "execution_count": 5,
   "id": "fe0dc10f",
   "metadata": {},
   "outputs": [
    {
     "name": "stdout",
     "output_type": "stream",
     "text": [
      "Elapsed time: 0.10603451728820801 seconds\n"
     ]
    }
   ],
   "source": [
    "end_time = time.time()\n",
    "elapsed_time = end_time - start_time\n",
    "print(\"Elapsed time:\", elapsed_time, \"seconds\")"
   ]
  },
  {
   "cell_type": "code",
   "execution_count": 6,
   "id": "e91125fa",
   "metadata": {},
   "outputs": [
    {
     "data": {
      "image/png": "[encoded data removed]",
      "text/plain": [
       "<Figure size 640x480 with 1 Axes>"
      ]
     },
     "metadata": {},
     "output_type": "display_data"
    }
   ],
   "source": [
    "# Create the scatter plot\n",
    "sns.scatterplot(data=statistics, x=\"Time\", y=\"Q-Difference\", hue=\"GotGift\")\n",
    "\n",
    "# Set the limits of x and y axes\n",
    "plt.ylim(0, 100)\n",
    "\n",
    "# Show the plot\n",
    "plt.show()"
   ]
  }
 ],
 "metadata": {
  "kernelspec": {
   "display_name": "Python 3 (ipykernel)",
   "language": "python",
   "name": "python3"
  },
  "language_info": {
   "codemirror_mode": {
    "name": "ipython",
    "version": 3
   },
   "file_extension": ".py",
   "mimetype": "text/x-python",
   "name": "python",
   "nbconvert_exporter": "python",
   "pygments_lexer": "ipython3",
   "version": "3.9.13"
  }
 },
 "nbformat": 4,
 "nbformat_minor": 5
}
